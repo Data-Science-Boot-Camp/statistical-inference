{
 "cells": [
  {
   "attachments": {},
   "cell_type": "markdown",
   "metadata": {},
   "source": [
    "# Key concepts:\n",
    "\n",
    "* When trying to estimate the true value of a population mean, we can use a random sample from that population to calculate a confidence interval.\n",
    "* The confidence interval gives a range of values that the true population mean is likely to fall within, based on the observed sample mean and the variability of the sample.\n",
    "* By using a confidence level (such as 95% or 99%), we can quantify the degree of certainty that the true population mean falls within the calculated interval."
   ]
  },
  {
   "cell_type": "code",
   "execution_count": 1,
   "metadata": {},
   "outputs": [],
   "source": [
    "import numpy as np\n",
    "import matplotlib.pyplot as plt\n",
    "from scipy.stats import norm, t\n",
    "\n",
    "# Set the random seed for reproducibility\n",
    "np.random.seed(0)"
   ]
  },
  {
   "attachments": {},
   "cell_type": "markdown",
   "metadata": {},
   "source": [
    "### Confidence intervals for the mean:\n",
    "* Known standard deviation\n",
    "* Known population\n",
    "$$ \\bar{x} \\pm Z_{\\alpha/2} \\times \\frac{\\sigma}{\\sqrt{n}} $$\n",
    "$$ (\\bar{x} - Z_{\\alpha/2} \\times \\frac{\\sigma}{\\sqrt{n}}, \\bar{x} + Z_{\\alpha/2} \\times \\frac{\\sigma}{\\sqrt{n}}) $$\n",
    "\n",
    "$$90 = \\bar{x} - Z_{\\alpha/2} \\times \\frac{\\sigma}{\\sqrt{n}}$$\n"
   ]
  },
  {
   "cell_type": "code",
   "execution_count": 19,
   "metadata": {},
   "outputs": [
    {
     "name": "stdout",
     "output_type": "stream",
     "text": [
      "z_alpha_2: 2.3263478740408408\n",
      "probability: 98.00%\n"
     ]
    }
   ],
   "source": [
    "# 1-alpha = 0.98\n",
    "# alpha = 0.02\n",
    "# alpha_2 = 0.01\n",
    "\n",
    "# The critical value for a two-tailed test\n",
    "# with a 0.025 area in each tail is 1 - 0.01 = 0.99 \n",
    "\n",
    "z_alpha_2 = norm.ppf(0.99)\n",
    "print(f'z_alpha_2: {z_alpha_2}')\n",
    "# probability\n",
    "probability = norm.cdf(z_alpha_2) - norm.cdf(-1*z_alpha_2)\n",
    "print(f'probability: {probability*100:.2f}%')"
   ]
  },
  {
   "cell_type": "code",
   "execution_count": 2,
   "metadata": {},
   "outputs": [
    {
     "name": "stdout",
     "output_type": "stream",
     "text": [
      "0.001\n",
      "1e-06\n",
      "1e-09\n",
      "1e-12\n"
     ]
    }
   ],
   "source": [
    "for i in range(1, 5):\n",
    "    print(1/1000**i)"
   ]
  },
  {
   "cell_type": "code",
   "execution_count": 3,
   "metadata": {},
   "outputs": [
    {
     "data": {
      "text/plain": [
       "<matplotlib.collections.PolyCollection at 0x7f25753feda0>"
      ]
     },
     "execution_count": 3,
     "metadata": {},
     "output_type": "execute_result"
    },
    {
     "data": {
      "image/png": "[encoded data removed]",
      "text/plain": [
       "<Figure size 720x360 with 1 Axes>"
      ]
     },
     "metadata": {
      "needs_background": "light"
     },
     "output_type": "display_data"
    }
   ],
   "source": [
    "# 95% confidence interval\n",
    "Z = 1.96\n",
    "\n",
    "x = np.linspace(-4, 4, 100)\n",
    "normal = norm.pdf(x)\n",
    "\n",
    "fig, ax = plt.subplots(\n",
    "    1, 1,\n",
    "    figsize=(10, 5),\n",
    ")\n",
    "\n",
    "ax.plot(x, normal, color='black')\n",
    "\n",
    "# dashed line for mean\n",
    "ax.axvline(\n",
    "    x=0,\n",
    "    linestyle='dashed',\n",
    "    color='blue',\n",
    "    alpha=1.0\n",
    ")\n",
    "\n",
    "probability = norm.cdf(Z) - norm.cdf(-Z)\n",
    "\n",
    "ax.set_title(\n",
    "    f'{probability*100:.2f}% confidence interval'\n",
    ")\n",
    "\n",
    "area_to_shade = (x > Z) | (x < -Z)\n",
    "\n",
    "ax.fill_between(\n",
    "    x, normal,\n",
    "    where=area_to_shade,\n",
    "    alpha=0.5,\n",
    "    color='red'\n",
    ")"
   ]
  },
  {
   "cell_type": "code",
   "execution_count": 4,
   "metadata": {},
   "outputs": [
    {
     "name": "stdout",
     "output_type": "stream",
     "text": [
      "z_alpha_2: 1.959963984540054\n",
      "probability: 95.00%\n"
     ]
    }
   ],
   "source": [
    "# 1-alpha = 0.95\n",
    "# alpha = 0.05\n",
    "# alpha_2 = 0.025\n",
    "\n",
    "# The critical value for a two-tailed test\n",
    "# with a 0.025 area in each tail is 1 - 0.025 = 0.975 \n",
    "\n",
    "z_alpha_2 = norm.ppf(0.975)\n",
    "print(f'z_alpha_2: {z_alpha_2}')\n",
    "# probability\n",
    "probability = norm.cdf(z_alpha_2) - norm.cdf(-1*z_alpha_2)\n",
    "print(f'probability: {probability*100:.2f}%')"
   ]
  },
  {
   "cell_type": "code",
   "execution_count": 5,
   "metadata": {},
   "outputs": [
    {
     "name": "stdout",
     "output_type": "stream",
     "text": [
      "z_alpha_2: 2.58\n",
      "probability: 99.00%\n"
     ]
    }
   ],
   "source": [
    "# 90% -> Z = 1,645\n",
    "# 95% -> Z = 1.96\n",
    "#########################\n",
    "# 99% -> Z = 2.576\n",
    "# 1-alpha = 0.99\n",
    "# alpha = 0.01\n",
    "# alpha_2 = 0.005\n",
    "\n",
    "# The critical value for a two-tailed test\n",
    "# with a 0.005 area in each tail is 1 - 0.005 = 0.995 \n",
    "z_alpha_2 = norm.ppf(0.995)\n",
    "print(f'z_alpha_2: {z_alpha_2:.2f}')\n",
    "# probability\n",
    "probability = norm.cdf(z_alpha_2) - norm.cdf(-1*z_alpha_2)\n",
    "print(f'probability: {probability*100:.2f}%')"
   ]
  },
  {
   "cell_type": "code",
   "execution_count": 6,
   "metadata": {},
   "outputs": [
    {
     "data": {
      "text/plain": [
       "(55.648, 60.352)"
      ]
     },
     "execution_count": 6,
     "metadata": {},
     "output_type": "execute_result"
    }
   ],
   "source": [
    "(58 - 1.96*6/5, 58 + 1.96*6/5)"
   ]
  },
  {
   "attachments": {},
   "cell_type": "markdown",
   "metadata": {},
   "source": [
    "### Confidence intervals for the mean:\n",
    "* Unknown standard deviation\n",
    "* Unknown population\n",
    "\n",
    "$$\\bar{x} \\pm t_{\\frac{\\alpha}{2},n-1} \\frac{s}{\\sqrt{n}}$$"
   ]
  },
  {
   "cell_type": "code",
   "execution_count": 7,
   "metadata": {},
   "outputs": [
    {
     "name": "stdout",
     "output_type": "stream",
     "text": [
      "t_alpha_2: 2.06\n",
      "probability: 95.00%\n"
     ]
    }
   ],
   "source": [
    "# 1-alpha = 0.95\n",
    "# alpha = 0.05\n",
    "# alpha_2 = 0.025\n",
    "\n",
    "# The critical value for a two-tailed test\n",
    "# with a 0.025 area in each tail is 1 - 0.025 = 0.975 \n",
    "df = 25-1\n",
    "t_alpha_2 = t.ppf(0.975, df=df)\n",
    "print(f't_alpha_2: {t_alpha_2:.2f}')\n",
    "# probability\n",
    "probability = t.cdf(t_alpha_2, df=df) - t.cdf(-1*t_alpha_2, df=df)\n",
    "print(f'probability: {probability*100:.2f}%')"
   ]
  },
  {
   "cell_type": "code",
   "execution_count": 8,
   "metadata": {},
   "outputs": [
    {
     "data": {
      "text/plain": [
       "(0.6294000000000001, 0.6706)"
      ]
     },
     "execution_count": 8,
     "metadata": {},
     "output_type": "execute_result"
    }
   ],
   "source": [
    "# 95% confidence interval\n",
    "x_bar = 0.65\n",
    "t_alpha_2 = 2.06\n",
    "n = 100\n",
    "s = 0.1\n",
    "(x_bar - t_alpha_2*s/np.sqrt(n), x_bar + t_alpha_2*s/np.sqrt(n))"
   ]
  },
  {
   "attachments": {},
   "cell_type": "markdown",
   "metadata": {},
   "source": [
    "### Confidence intervals for a proportion\n",
    "\n",
    "$$\\hat{p} \\pm Z_{\\frac{\\alpha}{2}} \\sqrt{\\frac{\\hat{p}(1-\\hat{p})}{n}}$$"
   ]
  },
  {
   "cell_type": "code",
   "execution_count": 9,
   "metadata": {},
   "outputs": [
    {
     "data": {
      "text/plain": [
       "[4.12, 15.879999999999999]"
      ]
     },
     "execution_count": 9,
     "metadata": {},
     "output_type": "execute_result"
    }
   ],
   "source": [
    "# De una muestra de 100 pruebas aleatorias de alcoholemia, 10 conductores dieron positivo. Hallar un intervalo de confianza (95%) para la verdadera proporción de conductores en Chile que van curados.\n",
    "\n",
    "p = 10/100\n",
    "Z = 1.96\n",
    "n = 100\n",
    "interval = (p - Z*np.sqrt(p*(1-p)/n), p + Z*np.sqrt(p*(1-p)/n))\n",
    "[100*i for i in interval]"
   ]
  },
  {
   "attachments": {},
   "cell_type": "markdown",
   "metadata": {},
   "source": [
    "### Sample size for finite population\n",
    "\n",
    "$$n = \\frac{N * p * (1-p) * Z^2}{(N-1) * e^2 + p * (1-p) * Z^2}$$\n",
    "\n",
    "where:\n",
    "* $n$: sample size\n",
    "* $N$: population size\n",
    "* $p$: expected proportion in the population\n",
    "* $Z$: critical value from the standard normal distribution for the desired level of confidence\n",
    "* $e$: desired margin of error"
   ]
  },
  {
   "cell_type": "code",
   "execution_count": 10,
   "metadata": {},
   "outputs": [
    {
     "data": {
      "text/plain": [
       "(1065.0, 0.19609720529259914)"
      ]
     },
     "execution_count": 10,
     "metadata": {},
     "output_type": "execute_result"
    }
   ],
   "source": [
    "# Supongamos que nos piden calcular el tamaño para una población de 543.098 consumidores de una marca de bebidas energéticas, donde el investigador asigna un nivel de confianza de 95% y un margen de error de 3%. Donde se desconoce la probabilidad “p” del evento.\n",
    "\n",
    "Z = 1.96\n",
    "N = 543098\n",
    "e = 0.03\n",
    "p = 0.5\n",
    "n = (Z**2*p*(1-p)*N)/(e**2*(N-1) + Z**2*p*(1-p))\n",
    "n = np.round(n)\n",
    "n, 100*n/N"
   ]
  },
  {
   "attachments": {},
   "cell_type": "markdown",
   "metadata": {},
   "source": [
    "### Sample size for infinite or unknown population\n",
    "\n",
    "$$n = \\frac{Z^2\\cdot p\\cdot(1-p)}{e^2}$$\n",
    "\n",
    "where:\n",
    "* $n$ is the sample size\n",
    "* $z$ is the standard score associated with the desired level of confidence\n",
    "* $p$ is the estimated proportion of the population with the attribute of interest\n",
    "* $e$ is the desired margin of error (expressed as a proportion)\n"
   ]
  },
  {
   "cell_type": "code",
   "execution_count": 11,
   "metadata": {},
   "outputs": [
    {
     "data": {
      "text/plain": [
       "1067.0"
      ]
     },
     "execution_count": 11,
     "metadata": {},
     "output_type": "execute_result"
    }
   ],
   "source": [
    "# Supongamos que nos piden calcular el tamaño para una población de 543.098 consumidores de una marca de bebidas energéticas, donde el investigador asigna un nivel de confianza de 95% y un margen de error de 3%. Donde se desconoce la probabilidad “p” del evento.\n",
    "\n",
    "Z = 1.96\n",
    "e = 0.03\n",
    "p = 0.5\n",
    "n = (Z**2*p*(1-p))/(e**2)\n",
    "n = np.round(n)\n",
    "n"
   ]
  },
  {
   "cell_type": "code",
   "execution_count": 18,
   "metadata": {},
   "outputs": [
    {
     "data": {
      "text/plain": [
       "12.25"
      ]
     },
     "execution_count": 18,
     "metadata": {},
     "output_type": "execute_result"
    }
   ],
   "source": [
    "49/4"
   ]
  },
  {
   "cell_type": "code",
   "execution_count": 17,
   "metadata": {},
   "outputs": [
    {
     "name": "stdout",
     "output_type": "stream",
     "text": [
      "z_alpha_2: 6.81\n",
      "probability: 99.999999999%\n"
     ]
    }
   ],
   "source": [
    "z_alpha_2 = norm.ppf(0.999999999995)\n",
    "print(f'z_alpha_2: {z_alpha_2:.2f}')\n",
    "# probability\n",
    "probability = norm.cdf(z_alpha_2) - norm.cdf(-1*z_alpha_2)\n",
    "print(f'probability: {probability*100}%')"
   ]
  },
  {
   "attachments": {},
   "cell_type": "markdown",
   "metadata": {},
   "source": [
    "## Bonus: t-distribution"
   ]
  },
  {
   "cell_type": "code",
   "execution_count": 12,
   "metadata": {},
   "outputs": [
    {
     "data": {
      "text/plain": [
       "<matplotlib.collections.PolyCollection at 0x7f2572f125f0>"
      ]
     },
     "execution_count": 12,
     "metadata": {},
     "output_type": "execute_result"
    },
    {
     "data": {
      "image/png": "[encoded data removed]",
      "text/plain": [
       "<Figure size 1080x360 with 2 Axes>"
      ]
     },
     "metadata": {
      "needs_background": "light"
     },
     "output_type": "display_data"
    }
   ],
   "source": [
    "confidence_interval = 1.96\n",
    "\n",
    "x = np.linspace(-4, 4, 100)\n",
    "df = 1000000-1\n",
    "# Normal distribution\n",
    "normal = norm.pdf(x)\n",
    "t_dist = t.pdf(x, df=df)\n",
    "\n",
    "fig, axs = plt.subplots(\n",
    "    1, 2,\n",
    "    figsize=(15, 5),\n",
    ")\n",
    "\n",
    "axs[0].plot(x, normal, color='black')\n",
    "\n",
    "# dashed line for mean\n",
    "axs[0].axvline(\n",
    "    x=0,\n",
    "    linestyle='dashed',\n",
    "    color='blue',\n",
    "    alpha=1.0\n",
    ")\n",
    "\n",
    "probability = norm.cdf(confidence_interval)\n",
    "probability -= norm.cdf(-1*confidence_interval)\n",
    "\n",
    "axs[0].set_title(\n",
    "    f'{probability*100:.2f}% confidence interval'\n",
    ")\n",
    "\n",
    "area_to_shade = x > confidence_interval\n",
    "area_to_shade |= x < -1*confidence_interval\n",
    "\n",
    "axs[0].fill_between(\n",
    "    x, normal,\n",
    "    where=area_to_shade,\n",
    "    alpha=0.5,\n",
    "    color='red'\n",
    ")\n",
    "\n",
    "# T distribution\n",
    "\n",
    "axs[1].plot(x, t_dist, color='black')\n",
    "\n",
    "# dashed line for mean\n",
    "axs[1].axvline(\n",
    "    x=0,\n",
    "    linestyle='dashed',\n",
    "    color='blue',\n",
    "    alpha=1.0\n",
    ")\n",
    "\n",
    "probability = t.cdf(confidence_interval, df=df)\n",
    "probability -= t.cdf(-1*confidence_interval, df=df)\n",
    "\n",
    "axs[1].set_title(\n",
    "    f'{probability*100:.2f}% confidence interval'\n",
    ")\n",
    "\n",
    "area_to_shade = x > confidence_interval\n",
    "area_to_shade |= x < -1*confidence_interval\n",
    "\n",
    "axs[1].fill_between(\n",
    "    x, t_dist,\n",
    "    where=area_to_shade,\n",
    "    alpha=0.5,\n",
    "    color='red'\n",
    ")"
   ]
  }
 ],
 "metadata": {
  "kernelspec": {
   "display_name": "Python 3",
   "language": "python",
   "name": "python3"
  },
  "language_info": {
   "codemirror_mode": {
    "name": "ipython",
    "version": 3
   },
   "file_extension": ".py",
   "mimetype": "text/x-python",
   "name": "python",
   "nbconvert_exporter": "python",
   "pygments_lexer": "ipython3",
   "version": "3.10.6"
  },
  "orig_nbformat": 4
 },
 "nbformat": 4,
 "nbformat_minor": 2
}
