{
 "cells": [
  {
   "attachments": {},
   "cell_type": "markdown",
   "metadata": {},
   "source": [
    "## Probability Distributions"
   ]
  },
  {
   "cell_type": "code",
   "execution_count": 2,
   "metadata": {},
   "outputs": [],
   "source": [
    "import matplotlib.pyplot as plt\n",
    "import numpy as np\n",
    "import pandas as pd\n",
    "from scipy.stats import norm"
   ]
  },
  {
   "cell_type": "code",
   "execution_count": 5,
   "metadata": {},
   "outputs": [
    {
     "name": "stdout",
     "output_type": "stream",
     "text": [
      "Random Variable: [5, 3, 6, 5, 4, 4, 6, 2, 4, 6, 3, 5, 1, 5, 2, 1, 3, 3, 1, 3, 4, 6, 5, 4, 1, 3, 5, 4, 3, 1, 6, 5, 5, 4, 4, 2, 4, 5, 6, 1, 1, 2, 5, 4, 3, 5, 5, 3, 2, 2, 4, 2, 6, 5, 5, 2, 3, 3, 6, 2, 4, 3, 1, 3, 5, 1, 3, 1, 2, 1, 3, 3, 5, 4, 6, 3, 1, 3, 1, 6, 4, 4, 6, 5, 5, 1, 4, 3, 5, 3, 5, 4, 6, 1, 5, 4, 1, 5, 3, 6]\n",
      "Unique Values:\n",
      "x_1 = 1\n",
      "x_2 = 2\n",
      "x_3 = 3\n",
      "x_4 = 4\n",
      "x_5 = 5\n",
      "x_6 = 6\n"
     ]
    }
   ],
   "source": [
    "def roll_dice():\n",
    "    \"\"\"\n",
    "    Roll a dice and return the number on the\n",
    "    face of the dice\n",
    "    \"\"\"\n",
    "\n",
    "    return np.random.randint(1, 7)\n",
    "\n",
    "# Generate random variable by rolling the dice\n",
    "n_rolls = 100\n",
    "outcomes_dice = [roll_dice() for _ in range(n_rolls)]\n",
    "\n",
    "# Print the random variable\n",
    "print(\"Random Variable:\", outcomes_dice)\n",
    "\n",
    "print(\"Unique Values:\")\n",
    "unique_values = np.unique(outcomes_dice)\n",
    "\n",
    "for idx, x in enumerate(unique_values):\n",
    "    print(f\"x_{idx+1} = {x}\")\n"
   ]
  },
  {
   "cell_type": "code",
   "execution_count": 13,
   "metadata": {},
   "outputs": [
    {
     "name": "stdout",
     "output_type": "stream",
     "text": [
      "Random Variable: [('head', 'tail'), ('tail', 'head'), ('tail', 'head'), ('head', 'head'), ('tail', 'head'), ('tail', 'head'), ('head', 'head'), ('tail', 'head'), ('head', 'tail'), ('tail', 'tail'), ('head', 'tail'), ('head', 'head'), ('head', 'head'), ('head', 'head'), ('tail', 'head'), ('head', 'tail'), ('tail', 'tail'), ('head', 'tail'), ('tail', 'head'), ('tail', 'head'), ('head', 'head'), ('head', 'tail'), ('tail', 'tail'), ('tail', 'tail'), ('tail', 'head'), ('head', 'head'), ('head', 'tail'), ('tail', 'head'), ('head', 'tail'), ('tail', 'head'), ('head', 'head'), ('head', 'head'), ('head', 'tail'), ('head', 'head'), ('head', 'head'), ('tail', 'tail'), ('head', 'head'), ('head', 'head'), ('tail', 'tail'), ('tail', 'head'), ('tail', 'tail'), ('tail', 'tail'), ('tail', 'tail'), ('tail', 'head'), ('tail', 'head'), ('head', 'tail'), ('tail', 'tail'), ('head', 'head'), ('head', 'head'), ('head', 'tail'), ('head', 'tail'), ('tail', 'head'), ('tail', 'tail'), ('head', 'tail'), ('tail', 'head'), ('head', 'tail'), ('head', 'tail'), ('tail', 'head'), ('head', 'head'), ('tail', 'head'), ('head', 'head'), ('tail', 'tail'), ('head', 'tail'), ('tail', 'head'), ('tail', 'tail'), ('head', 'head'), ('head', 'tail'), ('tail', 'head'), ('head', 'head'), ('tail', 'tail'), ('head', 'head'), ('tail', 'tail'), ('head', 'tail'), ('head', 'tail'), ('tail', 'tail'), ('tail', 'head'), ('head', 'tail'), ('tail', 'head'), ('tail', 'tail'), ('head', 'head'), ('tail', 'tail'), ('head', 'tail'), ('tail', 'tail'), ('tail', 'tail'), ('head', 'tail'), ('tail', 'tail'), ('tail', 'head'), ('head', 'tail'), ('head', 'tail'), ('head', 'tail'), ('tail', 'tail'), ('tail', 'tail'), ('head', 'head'), ('head', 'head'), ('tail', 'tail'), ('head', 'tail'), ('tail', 'head'), ('head', 'head'), ('tail', 'head'), ('tail', 'tail'), ('tail', 'head'), ('head', 'tail'), ('head', 'tail'), ('head', 'head'), ('tail', 'head'), ('tail', 'tail'), ('head', 'head'), ('head', 'head'), ('head', 'head'), ('head', 'head'), ('tail', 'head'), ('tail', 'tail'), ('tail', 'tail'), ('tail', 'head'), ('tail', 'tail'), ('head', 'tail'), ('tail', 'tail'), ('head', 'tail'), ('tail', 'tail'), ('head', 'head'), ('tail', 'tail'), ('head', 'head'), ('head', 'head'), ('head', 'head'), ('tail', 'head'), ('head', 'head'), ('head', 'head'), ('tail', 'tail'), ('head', 'head'), ('head', 'head'), ('head', 'head'), ('head', 'tail'), ('tail', 'head'), ('tail', 'head'), ('head', 'tail'), ('tail', 'head'), ('head', 'head'), ('head', 'head'), ('tail', 'head'), ('tail', 'tail'), ('head', 'head'), ('tail', 'head'), ('tail', 'tail'), ('tail', 'tail'), ('head', 'head'), ('head', 'head'), ('tail', 'tail'), ('head', 'head'), ('tail', 'head'), ('head', 'tail'), ('head', 'head'), ('head', 'tail'), ('tail', 'head'), ('tail', 'tail'), ('head', 'head'), ('head', 'tail'), ('head', 'tail'), ('tail', 'head'), ('tail', 'head'), ('head', 'tail'), ('tail', 'tail'), ('head', 'head'), ('tail', 'tail'), ('head', 'tail'), ('tail', 'tail'), ('head', 'tail'), ('tail', 'head'), ('head', 'head'), ('tail', 'tail'), ('head', 'head'), ('tail', 'tail'), ('tail', 'tail'), ('tail', 'head'), ('tail', 'head'), ('head', 'head'), ('tail', 'tail'), ('head', 'tail'), ('tail', 'tail'), ('tail', 'tail'), ('head', 'head'), ('head', 'tail'), ('tail', 'tail'), ('head', 'head'), ('tail', 'head'), ('tail', 'head'), ('tail', 'head'), ('head', 'tail'), ('tail', 'tail'), ('tail', 'head'), ('head', 'head'), ('head', 'head'), ('tail', 'head'), ('tail', 'tail'), ('tail', 'tail'), ('tail', 'tail'), ('head', 'tail'), ('head', 'head'), ('tail', 'tail'), ('head', 'head'), ('head', 'head'), ('head', 'head'), ('tail', 'head'), ('tail', 'tail'), ('head', 'tail'), ('head', 'head'), ('tail', 'tail'), ('tail', 'head'), ('head', 'tail'), ('tail', 'head'), ('tail', 'tail'), ('tail', 'tail'), ('head', 'head'), ('tail', 'head'), ('tail', 'tail'), ('tail', 'tail'), ('head', 'head'), ('head', 'head'), ('tail', 'tail'), ('tail', 'head'), ('tail', 'head'), ('tail', 'tail'), ('head', 'tail'), ('tail', 'head'), ('head', 'tail'), ('tail', 'head'), ('tail', 'tail'), ('tail', 'head'), ('head', 'tail'), ('head', 'tail'), ('head', 'head'), ('head', 'tail'), ('head', 'head'), ('head', 'head'), ('tail', 'tail'), ('head', 'tail'), ('head', 'tail'), ('head', 'head'), ('tail', 'head'), ('head', 'head'), ('tail', 'head'), ('tail', 'head'), ('tail', 'head'), ('tail', 'head'), ('tail', 'head'), ('tail', 'head'), ('tail', 'head'), ('head', 'head'), ('head', 'tail'), ('tail', 'tail'), ('tail', 'tail'), ('head', 'tail'), ('tail', 'tail'), ('head', 'head'), ('tail', 'tail'), ('tail', 'tail'), ('head', 'head'), ('tail', 'tail'), ('head', 'tail'), ('tail', 'tail'), ('tail', 'tail'), ('tail', 'head'), ('tail', 'tail'), ('head', 'tail'), ('head', 'tail'), ('head', 'tail'), ('tail', 'tail'), ('tail', 'head'), ('head', 'tail'), ('tail', 'head'), ('tail', 'tail'), ('head', 'head'), ('head', 'head'), ('tail', 'head'), ('tail', 'head'), ('head', 'tail'), ('head', 'tail'), ('tail', 'head'), ('tail', 'head'), ('head', 'head'), ('head', 'tail'), ('tail', 'tail'), ('tail', 'tail'), ('tail', 'head'), ('tail', 'tail'), ('tail', 'head'), ('head', 'head'), ('head', 'head'), ('head', 'tail'), ('tail', 'head'), ('tail', 'tail'), ('head', 'head'), ('tail', 'tail'), ('head', 'head'), ('head', 'tail'), ('tail', 'tail'), ('head', 'tail'), ('tail', 'head'), ('tail', 'head'), ('head', 'head'), ('head', 'tail'), ('tail', 'head'), ('tail', 'head'), ('tail', 'head'), ('tail', 'head'), ('tail', 'head'), ('head', 'tail'), ('tail', 'head'), ('tail', 'head'), ('head', 'tail'), ('tail', 'tail'), ('tail', 'tail'), ('tail', 'tail'), ('head', 'tail'), ('tail', 'tail'), ('tail', 'tail'), ('head', 'tail'), ('head', 'tail'), ('head', 'tail'), ('head', 'tail'), ('head', 'head'), ('head', 'head'), ('tail', 'tail'), ('tail', 'head'), ('tail', 'head'), ('tail', 'head'), ('head', 'tail'), ('head', 'head'), ('tail', 'head'), ('head', 'tail'), ('head', 'head'), ('head', 'head'), ('tail', 'head'), ('head', 'tail'), ('head', 'head'), ('head', 'tail'), ('head', 'tail'), ('head', 'tail'), ('tail', 'head'), ('head', 'tail'), ('head', 'tail'), ('head', 'head'), ('head', 'tail'), ('head', 'tail'), ('head', 'tail'), ('head', 'head'), ('tail', 'head'), ('tail', 'tail'), ('tail', 'tail'), ('tail', 'head'), ('tail', 'tail'), ('head', 'head'), ('head', 'head'), ('tail', 'head'), ('head', 'tail'), ('head', 'head'), ('head', 'tail'), ('head', 'head'), ('head', 'head'), ('head', 'head'), ('head', 'head'), ('head', 'tail'), ('tail', 'head'), ('tail', 'head'), ('head', 'head'), ('head', 'tail'), ('tail', 'tail'), ('tail', 'head'), ('head', 'head'), ('tail', 'head'), ('head', 'head'), ('tail', 'head'), ('tail', 'tail'), ('head', 'tail'), ('tail', 'head'), ('head', 'tail'), ('tail', 'tail'), ('tail', 'tail'), ('head', 'tail'), ('head', 'tail'), ('tail', 'tail'), ('tail', 'head'), ('tail', 'head'), ('tail', 'head'), ('tail', 'head'), ('tail', 'head'), ('head', 'head'), ('tail', 'tail'), ('tail', 'head'), ('head', 'head'), ('head', 'tail'), ('tail', 'tail'), ('tail', 'head'), ('head', 'tail'), ('tail', 'head'), ('head', 'head'), ('head', 'head'), ('tail', 'tail'), ('head', 'tail'), ('head', 'tail'), ('tail', 'head'), ('head', 'tail'), ('head', 'head'), ('head', 'tail'), ('head', 'tail'), ('tail', 'tail'), ('tail', 'tail'), ('head', 'head'), ('head', 'tail'), ('tail', 'head'), ('tail', 'head'), ('head', 'head'), ('head', 'head'), ('tail', 'head'), ('head', 'tail'), ('tail', 'tail'), ('head', 'tail'), ('tail', 'head'), ('tail', 'head'), ('tail', 'head'), ('tail', 'head'), ('tail', 'tail'), ('head', 'tail'), ('head', 'head'), ('tail', 'head'), ('tail', 'tail'), ('tail', 'tail'), ('head', 'head'), ('head', 'head'), ('tail', 'head'), ('tail', 'head'), ('tail', 'tail'), ('tail', 'head'), ('head', 'head'), ('head', 'tail'), ('head', 'tail'), ('head', 'tail'), ('head', 'tail'), ('head', 'tail'), ('head', 'head'), ('tail', 'tail'), ('tail', 'tail'), ('head', 'head'), ('tail', 'tail'), ('tail', 'tail'), ('tail', 'tail'), ('tail', 'head'), ('head', 'head'), ('tail', 'head'), ('head', 'tail'), ('tail', 'tail'), ('head', 'tail'), ('head', 'head'), ('tail', 'tail'), ('head', 'tail'), ('tail', 'head'), ('tail', 'head'), ('tail', 'head'), ('head', 'head'), ('head', 'tail'), ('head', 'head'), ('head', 'head'), ('head', 'tail'), ('tail', 'tail'), ('tail', 'tail'), ('head', 'head'), ('tail', 'head'), ('tail', 'head'), ('tail', 'tail'), ('tail', 'tail'), ('head', 'tail'), ('head', 'head'), ('head', 'head'), ('tail', 'tail'), ('tail', 'tail'), ('head', 'head'), ('tail', 'tail'), ('tail', 'tail'), ('head', 'head'), ('head', 'head'), ('tail', 'tail'), ('head', 'tail'), ('head', 'tail'), ('head', 'head'), ('head', 'head'), ('head', 'tail'), ('tail', 'head'), ('tail', 'tail'), ('head', 'tail'), ('head', 'tail'), ('tail', 'head'), ('tail', 'head'), ('head', 'head'), ('head', 'head'), ('head', 'head'), ('head', 'tail'), ('head', 'head'), ('tail', 'tail'), ('tail', 'tail'), ('tail', 'head'), ('head', 'head'), ('tail', 'tail'), ('head', 'tail'), ('tail', 'tail'), ('tail', 'tail'), ('head', 'tail'), ('tail', 'head'), ('tail', 'head'), ('tail', 'head'), ('tail', 'tail'), ('tail', 'tail'), ('tail', 'head'), ('head', 'head'), ('head', 'head'), ('head', 'head'), ('tail', 'head'), ('tail', 'tail'), ('head', 'head'), ('tail', 'head'), ('head', 'tail'), ('head', 'tail'), ('tail', 'tail'), ('tail', 'head'), ('tail', 'head'), ('head', 'head'), ('tail', 'tail'), ('head', 'tail'), ('tail', 'head'), ('head', 'head'), ('head', 'head'), ('head', 'head'), ('head', 'head'), ('head', 'tail'), ('tail', 'tail'), ('tail', 'tail'), ('head', 'tail'), ('tail', 'tail'), ('tail', 'head'), ('head', 'tail'), ('head', 'head'), ('head', 'head'), ('head', 'tail'), ('tail', 'head'), ('tail', 'tail'), ('tail', 'head'), ('tail', 'tail'), ('tail', 'head'), ('head', 'head'), ('tail', 'head'), ('head', 'head'), ('tail', 'tail'), ('head', 'tail'), ('head', 'head'), ('tail', 'head'), ('tail', 'head'), ('tail', 'tail'), ('head', 'head'), ('head', 'head'), ('head', 'tail'), ('head', 'head'), ('tail', 'head'), ('tail', 'head'), ('head', 'head'), ('tail', 'head'), ('tail', 'head'), ('head', 'tail'), ('head', 'head'), ('head', 'tail'), ('tail', 'tail'), ('tail', 'tail'), ('head', 'tail'), ('tail', 'tail'), ('tail', 'tail'), ('head', 'head'), ('head', 'head'), ('head', 'tail'), ('head', 'tail'), ('head', 'head'), ('head', 'head'), ('tail', 'tail'), ('head', 'tail'), ('head', 'tail'), ('tail', 'tail'), ('head', 'tail'), ('tail', 'tail'), ('tail', 'head'), ('tail', 'tail'), ('tail', 'tail'), ('head', 'head'), ('head', 'tail'), ('head', 'head'), ('tail', 'tail'), ('head', 'tail'), ('tail', 'tail'), ('tail', 'head'), ('tail', 'tail'), ('tail', 'tail'), ('tail', 'head'), ('tail', 'tail'), ('head', 'head'), ('tail', 'head'), ('tail', 'tail'), ('head', 'tail'), ('tail', 'tail'), ('head', 'head'), ('head', 'head'), ('tail', 'tail'), ('tail', 'tail'), ('tail', 'tail'), ('tail', 'head'), ('head', 'head'), ('head', 'tail'), ('head', 'tail'), ('tail', 'head'), ('tail', 'tail'), ('head', 'tail'), ('head', 'head'), ('head', 'head'), ('head', 'tail'), ('head', 'tail'), ('tail', 'head'), ('head', 'head'), ('tail', 'tail'), ('tail', 'tail'), ('tail', 'tail'), ('head', 'head'), ('head', 'head'), ('head', 'head'), ('tail', 'head'), ('tail', 'head'), ('head', 'head'), ('head', 'tail'), ('head', 'tail'), ('head', 'tail'), ('head', 'tail'), ('tail', 'tail'), ('head', 'tail'), ('head', 'tail'), ('tail', 'tail'), ('tail', 'head'), ('head', 'head'), ('tail', 'tail'), ('head', 'head'), ('tail', 'tail'), ('tail', 'tail'), ('head', 'head'), ('tail', 'tail'), ('tail', 'head'), ('head', 'head'), ('tail', 'head'), ('head', 'tail'), ('head', 'tail'), ('head', 'head'), ('tail', 'tail'), ('head', 'tail'), ('head', 'tail'), ('tail', 'tail'), ('tail', 'tail'), ('head', 'tail'), ('head', 'head'), ('head', 'tail'), ('tail', 'tail'), ('head', 'head'), ('tail', 'head'), ('head', 'head'), ('tail', 'head'), ('head', 'tail'), ('head', 'head'), ('head', 'tail'), ('head', 'tail'), ('tail', 'tail'), ('tail', 'head'), ('tail', 'head'), ('tail', 'head'), ('tail', 'tail'), ('head', 'tail'), ('head', 'tail'), ('head', 'head'), ('head', 'head'), ('head', 'head'), ('tail', 'head'), ('head', 'tail'), ('head', 'tail'), ('head', 'head'), ('head', 'head'), ('tail', 'head'), ('tail', 'head'), ('tail', 'tail'), ('head', 'tail'), ('tail', 'head'), ('head', 'head'), ('tail', 'tail'), ('tail', 'tail'), ('head', 'tail'), ('tail', 'head'), ('tail', 'tail'), ('head', 'head'), ('tail', 'tail'), ('tail', 'head'), ('tail', 'head'), ('head', 'tail'), ('tail', 'head'), ('head', 'tail'), ('head', 'tail'), ('head', 'head'), ('head', 'tail'), ('head', 'tail'), ('tail', 'tail'), ('head', 'head'), ('head', 'head'), ('tail', 'tail'), ('tail', 'head'), ('tail', 'head'), ('tail', 'head'), ('head', 'tail'), ('tail', 'tail'), ('head', 'tail'), ('tail', 'tail'), ('tail', 'head'), ('tail', 'tail'), ('head', 'head'), ('head', 'tail'), ('tail', 'head'), ('tail', 'head'), ('tail', 'head'), ('tail', 'tail'), ('tail', 'head'), ('head', 'head'), ('head', 'head'), ('tail', 'head'), ('head', 'tail'), ('tail', 'tail'), ('tail', 'head'), ('tail', 'tail'), ('head', 'head'), ('tail', 'tail'), ('head', 'tail'), ('head', 'tail'), ('tail', 'tail'), ('head', 'head'), ('head', 'head'), ('head', 'tail'), ('tail', 'head'), ('tail', 'head'), ('tail', 'head'), ('head', 'tail'), ('tail', 'head'), ('head', 'tail'), ('tail', 'tail'), ('tail', 'head'), ('head', 'tail'), ('tail', 'head'), ('head', 'tail'), ('head', 'tail'), ('tail', 'head'), ('tail', 'head'), ('head', 'tail'), ('head', 'tail'), ('tail', 'tail'), ('head', 'tail'), ('tail', 'head'), ('tail', 'head'), ('tail', 'tail'), ('tail', 'head'), ('tail', 'tail'), ('tail', 'tail'), ('head', 'head'), ('head', 'tail'), ('head', 'tail'), ('tail', 'tail'), ('tail', 'head'), ('head', 'tail'), ('tail', 'head'), ('tail', 'tail'), ('tail', 'head'), ('head', 'tail'), ('tail', 'head'), ('head', 'head'), ('tail', 'tail'), ('head', 'head'), ('tail', 'head'), ('tail', 'head'), ('head', 'head'), ('tail', 'tail'), ('tail', 'head'), ('head', 'tail'), ('head', 'tail'), ('head', 'head'), ('tail', 'tail'), ('tail', 'tail'), ('tail', 'head'), ('tail', 'tail'), ('tail', 'tail'), ('tail', 'head'), ('tail', 'tail'), ('tail', 'head'), ('head', 'tail'), ('tail', 'head'), ('head', 'head'), ('tail', 'tail'), ('head', 'tail'), ('tail', 'tail'), ('tail', 'head'), ('head', 'head'), ('tail', 'head'), ('head', 'head'), ('tail', 'head'), ('tail', 'tail'), ('head', 'head'), ('tail', 'head'), ('head', 'head'), ('head', 'tail'), ('head', 'head'), ('tail', 'head'), ('tail', 'tail'), ('head', 'head'), ('tail', 'head'), ('head', 'head'), ('head', 'head'), ('head', 'head'), ('tail', 'tail'), ('tail', 'tail'), ('tail', 'head'), ('head', 'tail'), ('head', 'tail'), ('tail', 'head'), ('head', 'tail'), ('head', 'head'), ('head', 'head'), ('tail', 'tail'), ('head', 'head'), ('tail', 'tail'), ('tail', 'tail'), ('tail', 'tail'), ('tail', 'head'), ('head', 'tail'), ('head', 'head'), ('head', 'tail'), ('head', 'head'), ('tail', 'tail'), ('head', 'tail'), ('tail', 'head'), ('head', 'head'), ('tail', 'head'), ('head', 'head'), ('tail', 'tail'), ('head', 'head'), ('head', 'tail'), ('head', 'tail'), ('tail', 'head'), ('head', 'head'), ('head', 'tail'), ('tail', 'tail'), ('head', 'tail'), ('tail', 'head'), ('head', 'head'), ('head', 'tail'), ('tail', 'head'), ('head', 'head'), ('tail', 'head'), ('head', 'tail'), ('head', 'tail'), ('head', 'tail'), ('head', 'tail'), ('head', 'tail'), ('tail', 'tail'), ('head', 'head'), ('tail', 'head'), ('tail', 'tail'), ('tail', 'head'), ('head', 'head'), ('head', 'head'), ('tail', 'head'), ('head', 'tail'), ('tail', 'tail'), ('head', 'head'), ('tail', 'tail'), ('tail', 'tail'), ('head', 'head'), ('head', 'tail'), ('tail', 'head'), ('head', 'head'), ('head', 'tail'), ('head', 'head'), ('tail', 'head'), ('head', 'head'), ('tail', 'head'), ('tail', 'tail'), ('tail', 'tail'), ('head', 'tail'), ('tail', 'head'), ('tail', 'tail'), ('tail', 'tail'), ('head', 'tail'), ('head', 'head'), ('tail', 'head'), ('head', 'head'), ('head', 'head'), ('head', 'head'), ('head', 'tail'), ('tail', 'head'), ('head', 'tail'), ('head', 'head'), ('tail', 'tail'), ('head', 'head'), ('tail', 'head'), ('tail', 'head'), ('head', 'head'), ('head', 'head'), ('head', 'head'), ('tail', 'tail'), ('head', 'tail'), ('head', 'head'), ('head', 'head'), ('head', 'head'), ('head', 'tail'), ('head', 'head'), ('tail', 'tail'), ('head', 'tail'), ('head', 'head'), ('tail', 'tail'), ('tail', 'tail'), ('head', 'tail'), ('head', 'tail'), ('tail', 'head'), ('head', 'head'), ('head', 'tail'), ('head', 'tail'), ('head', 'tail'), ('tail', 'head'), ('tail', 'head'), ('head', 'tail'), ('head', 'tail'), ('head', 'head'), ('tail', 'head'), ('head', 'head'), ('head', 'tail'), ('tail', 'tail'), ('tail', 'tail'), ('tail', 'tail'), ('tail', 'head'), ('head', 'head'), ('tail', 'tail'), ('tail', 'tail'), ('tail', 'tail'), ('head', 'head'), ('tail', 'tail'), ('tail', 'tail'), ('head', 'tail'), ('tail', 'head'), ('tail', 'tail'), ('tail', 'head'), ('head', 'tail'), ('tail', 'head'), ('tail', 'head'), ('head', 'head'), ('tail', 'head'), ('tail', 'tail'), ('head', 'tail'), ('tail', 'head'), ('tail', 'head'), ('tail', 'tail'), ('tail', 'head'), ('head', 'tail'), ('head', 'head'), ('head', 'tail'), ('head', 'head'), ('head', 'tail'), ('head', 'tail'), ('tail', 'tail'), ('tail', 'head'), ('head', 'tail'), ('head', 'head'), ('head', 'head'), ('head', 'head'), ('tail', 'tail'), ('tail', 'head'), ('head', 'tail'), ('tail', 'tail'), ('tail', 'tail'), ('head', 'tail'), ('tail', 'tail'), ('head', 'head'), ('tail', 'head'), ('head', 'tail'), ('tail', 'tail'), ('tail', 'tail'), ('tail', 'head'), ('head', 'tail'), ('head', 'head'), ('head', 'head'), ('tail', 'tail'), ('tail', 'head'), ('head', 'head'), ('tail', 'tail'), ('tail', 'head'), ('tail', 'tail'), ('head', 'tail'), ('tail', 'tail'), ('tail', 'tail'), ('tail', 'head')]\n",
      "Unique Values:\n",
      "x_1 = ('head', 'tail')\n",
      "x_2 = ('tail', 'tail')\n",
      "x_3 = ('head', 'head')\n",
      "x_4 = ('tail', 'head')\n"
     ]
    }
   ],
   "source": [
    "def toss_two_coins():\n",
    "    \"\"\"\n",
    "    Toss two coins and return the number of h\n",
    "    \"\"\"\n",
    "    output = ['head', 'tail']\n",
    "    coin_1 = np.random.choice(output)\n",
    "    coin_2 = np.random.choice(output)\n",
    "\n",
    "    return coin_1, coin_2\n",
    "\n",
    "# random variable by rolling two dices\n",
    "n_tosses = 1_000\n",
    "X = [toss_two_coins() for _ in range(n_tosses)]\n",
    "\n",
    "# Print the random variable\n",
    "print(\"Random Variable:\", X)\n",
    "\n",
    "print(\"Unique Values:\")\n",
    "unique_two_coins = set(X)\n",
    "\n",
    "for idx, x in enumerate(unique_two_coins):\n",
    "\n",
    "    print(f\"x_{idx+1} = {x}\")\n",
    "\n"
   ]
  },
  {
   "cell_type": "code",
   "execution_count": 22,
   "metadata": {},
   "outputs": [
    {
     "data": {
      "text/plain": [
       "Text(0, 0.5, 'Probability')"
      ]
     },
     "execution_count": 22,
     "metadata": {},
     "output_type": "execute_result"
    },
    {
     "data": {
      "image/png": "[encoded data removed]",
      "text/plain": [
       "<Figure size 864x360 with 2 Axes>"
      ]
     },
     "metadata": {
      "needs_background": "light"
     },
     "output_type": "display_data"
    }
   ],
   "source": [
    "dice_outcomes = [1, 2, 3, 4, 5, 6]\n",
    "probabilities = [1/6, 1/6, 1/6, 1/6, 1/6, 1/6]\n",
    "fig, axs = plt.subplots(1, 2, figsize=(12, 5))\n",
    "\n",
    "axs[0].bar(dice_outcomes, probabilities)\n",
    "\n",
    "# Add labels and title to the plot\n",
    "axs[0].set_title('Probability Mass Function')\n",
    "axs[0].set_xlabel('Value')\n",
    "axs[0].set_ylabel('Probability')\n",
    "\n",
    "# cumulative distribution function\n",
    "distribution = np.cumsum(probabilities)\n",
    "axs[1].step(dice_outcomes, distribution)\n",
    "\n",
    "# Add labels and title to the plot\n",
    "axs[1].set_title('Cumulative Distribution Function')\n",
    "axs[1].set_xlabel('Value')\n",
    "axs[1].set_ylabel('Probability')\n"
   ]
  },
  {
   "cell_type": "code",
   "execution_count": 30,
   "metadata": {},
   "outputs": [
    {
     "data": {
      "text/plain": [
       "'Alexis Bacian'"
      ]
     },
     "execution_count": 30,
     "metadata": {},
     "output_type": "execute_result"
    }
   ],
   "source": [
    "from library import random_student\n",
    "random_student()"
   ]
  },
  {
   "cell_type": "code",
   "execution_count": 29,
   "metadata": {},
   "outputs": [
    {
     "name": "stdout",
     "output_type": "stream",
     "text": [
      "3.49961\n"
     ]
    }
   ],
   "source": [
    "outcomes_dice = [roll_dice() for _ in range(100_000)]\n",
    "promedio = sum(outcomes_dice)/len(outcomes_dice)\n",
    "print(promedio)"
   ]
  },
  {
   "cell_type": "code",
   "execution_count": 36,
   "metadata": {},
   "outputs": [],
   "source": [
    "def roll_tricky_dice():\n",
    "    \"\"\"\n",
    "    Roll a dice and return the number on the\n",
    "    face of the dice\n",
    "    \"\"\"\n",
    "    outcome = [1, 2, 3, 4, 5, 6, 6, 6, 6, 6, 6, 6]\n",
    "    return np.random.choice(outcome)"
   ]
  },
  {
   "cell_type": "code",
   "execution_count": 37,
   "metadata": {},
   "outputs": [
    {
     "name": "stdout",
     "output_type": "stream",
     "text": [
      "4.76054\n"
     ]
    }
   ],
   "source": [
    "outcomes_dice = [roll_tricky_dice() for _ in range(100_000)]\n",
    "promedio = sum(outcomes_dice)/len(outcomes_dice)\n",
    "print(promedio)"
   ]
  },
  {
   "cell_type": "code",
   "execution_count": null,
   "metadata": {},
   "outputs": [],
   "source": []
  },
  {
   "cell_type": "code",
   "execution_count": 23,
   "metadata": {},
   "outputs": [
    {
     "data": {
      "text/plain": [
       "Text(0, 0.5, 'Probability')"
      ]
     },
     "execution_count": 23,
     "metadata": {},
     "output_type": "execute_result"
    },
    {
     "data": {
      "image/png": "[encoded data removed]",
      "text/plain": [
       "<Figure size 864x360 with 2 Axes>"
      ]
     },
     "metadata": {
      "needs_background": "light"
     },
     "output_type": "display_data"
    }
   ],
   "source": [
    "dice_outcomes = [1, 2, 3, 4, 5, 6]\n",
    "probabilities = [1/12, 3/12, 1/12, 1/12, 1/12, 5/12]\n",
    "fig, axs = plt.subplots(1, 2, figsize=(12, 5))\n",
    "\n",
    "axs[0].bar(dice_outcomes, probabilities)\n",
    "\n",
    "# Add labels and title to the plot\n",
    "axs[0].set_title('Probability Mass Function')\n",
    "axs[0].set_xlabel('Value')\n",
    "axs[0].set_ylabel('Probability')\n",
    "\n",
    "# cumulative distribution function\n",
    "distribution = np.cumsum(probabilities)\n",
    "axs[1].step(dice_outcomes, distribution)\n",
    "\n",
    "# Add labels and title to the plot\n",
    "axs[1].set_title('Cumulative Distribution Function')\n",
    "axs[1].set_xlabel('Value')\n",
    "axs[1].set_ylabel('Probability')\n"
   ]
  },
  {
   "cell_type": "code",
   "execution_count": 34,
   "metadata": {},
   "outputs": [
    {
     "data": {
      "text/plain": [
       "3.5"
      ]
     },
     "execution_count": 34,
     "metadata": {},
     "output_type": "execute_result"
    }
   ],
   "source": [
    "np.sum([1, 2, 3, 4, 5, 6])/6"
   ]
  },
  {
   "attachments": {},
   "cell_type": "markdown",
   "metadata": {},
   "source": [
    "$$\\sum_i x_i*p_i$$"
   ]
  },
  {
   "cell_type": "code",
   "execution_count": 38,
   "metadata": {},
   "outputs": [
    {
     "name": "stdout",
     "output_type": "stream",
     "text": [
      "Mean: 4.75\n",
      "Variance: 3.0208333333333335\n"
     ]
    }
   ],
   "source": [
    "tricky_dice_outcomes = np.array([1, 2, 3, 4, 5, 6])\n",
    "tricky_probabilities = np.array(\n",
    "    [1/12, 1/12, 1/12, 1/12, 1/12, 7/12]\n",
    ")\n",
    "\n",
    "\n",
    "# compute the mean and variance\n",
    "mean = np.sum(tricky_dice_outcomes * tricky_probabilities)\n",
    "variance = np.sum(\n",
    "    (tricky_dice_outcomes - mean)**2 * tricky_probabilities\n",
    ")\n",
    "\n",
    "print(\"Mean:\", mean)\n",
    "print(\"Variance:\", variance)"
   ]
  },
  {
   "cell_type": "code",
   "execution_count": 39,
   "metadata": {},
   "outputs": [
    {
     "name": "stdout",
     "output_type": "stream",
     "text": [
      "0.9999999999999999\n",
      "Mean: 3.5\n",
      "Variance: 2.9166666666666665\n"
     ]
    }
   ],
   "source": [
    "dice_outcomes = np.array([1, 2, 3, 4, 5, 6])\n",
    "probabilities = np.array(\n",
    "    [1/6, 1/6, 1/6, 1/6, 1/6, 1/6]\n",
    ")\n",
    "\n",
    "# compute the mean and variance\n",
    "mean = np.sum(dice_outcomes * probabilities)\n",
    "variance = np.sum(\n",
    "    (dice_outcomes - mean)**2 *probabilities\n",
    ")\n",
    "\n",
    "print(\"Mean:\", mean)\n",
    "print(\"Variance:\", variance)"
   ]
  },
  {
   "cell_type": "markdown",
   "metadata": {},
   "source": [
    "### Continuous distribution - Normal distribution"
   ]
  },
  {
   "cell_type": "code",
   "execution_count": null,
   "metadata": {},
   "outputs": [],
   "source": [
    "# Generate a sample from a normal distribution\n",
    "mu, sigma = 0, 0.1\n",
    "s = np.random.normal(mu, sigma, 1000)\n",
    "\n",
    "# Create the histogram of the data\n",
    "count, bins, _ = plt.hist(s, 30, density=True)\n",
    "\n",
    "# Plot the probability density function\n",
    "normal_distribution = 1/(sigma * np.sqrt(2 * np.pi))\n",
    "normal_distribution *= np.exp(\n",
    "    - (bins - mu)**2 / (2 * sigma**2)\n",
    ")\n",
    "\n",
    "plt.plot(\n",
    "    bins,\n",
    "    normal_distribution,\n",
    "    linewidth=2, color='black'\n",
    ")\n",
    "\n",
    "# Add labels and title to the plot\n",
    "plt.title('Normal Distribution')\n",
    "plt.xlabel('Value')\n",
    "plt.ylabel('Probability Density')\n",
    "plt.show()\n"
   ]
  },
  {
   "cell_type": "code",
   "execution_count": null,
   "metadata": {},
   "outputs": [],
   "source": [
    "start = 0\n",
    "end = 3\n",
    "step = 0.2\n",
    "\n",
    "z_scores = np.arange(start, end + step, step)\n",
    "# cumulative distribution function\n",
    "probabilities = norm.cdf(z_scores)\n",
    "\n",
    "df = pd.DataFrame({\"z-score\": z_scores, \"probability\": probabilities})\n",
    "print(df)\n"
   ]
  },
  {
   "cell_type": "code",
   "execution_count": null,
   "metadata": {},
   "outputs": [],
   "source": [
    "### Discrete distribution - Binomial distribution\n",
    "# random sample from a binomial distribution\n",
    "# number of trials, probability of success\n",
    "n, p = 5, 0.5\n",
    "n_samples = 1000\n",
    "s = np.random.binomial(n, p, n_samples)\n",
    "\n",
    "# histogram of the sample\n",
    "count, bins, _ = plt.hist(\n",
    "    s,\n",
    "    bins=11,\n",
    "    density=True\n",
    ")\n",
    "\n",
    "# Add labels and title to the plot\n",
    "plt.title('Binomial Distribution')\n",
    "plt.xlabel('Number of Successes')\n",
    "plt.ylabel('Probability Density')\n",
    "plt.show()\n"
   ]
  },
  {
   "cell_type": "code",
   "execution_count": null,
   "metadata": {},
   "outputs": [],
   "source": []
  }
 ],
 "metadata": {
  "kernelspec": {
   "display_name": "Python 3",
   "language": "python",
   "name": "python3"
  },
  "language_info": {
   "codemirror_mode": {
    "name": "ipython",
    "version": 3
   },
   "file_extension": ".py",
   "mimetype": "text/x-python",
   "name": "python",
   "nbconvert_exporter": "python",
   "pygments_lexer": "ipython3",
   "version": "3.10.6"
  },
  "orig_nbformat": 4
 },
 "nbformat": 4,
 "nbformat_minor": 2
}
