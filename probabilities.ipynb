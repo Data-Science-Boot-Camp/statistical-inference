{
 "cells": [
  {
   "cell_type": "code",
   "execution_count": null,
   "metadata": {},
   "outputs": [],
   "source": []
  },
  {
   "cell_type": "code",
   "execution_count": 2,
   "metadata": {},
   "outputs": [
    {
     "name": "stdout",
     "output_type": "stream",
     "text": [
      "La probabilidad de obtener el 6 en un lanzamiento es 0.29\n",
      "La probabilidad de conseguir un número impar en un lanzamiento es 0.43\n"
     ]
    }
   ],
   "source": [
    "# Define the probabilities of each face of the die\n",
    "p = [1/21, 2/21, 3/21, 4/21, 5/21, 6/21]\n",
    "\n",
    "# Probability of obtaining a 6\n",
    "p_6 = p[5] # 6 is in the 6th position in the array (index 5)\n",
    "\n",
    "# Probability of obtaining an odd number\n",
    "p_odd = p[0] + p[2] + p[4] # add the probabilities of the odd faces\n",
    "print(f\"La probabilidad de obtener el 6 en un lanzamiento es {p_6:.2f}\")\n",
    "print(f\"La probabilidad de conseguir un número impar en un lanzamiento es {p_odd:.2f}\")"
   ]
  },
  {
   "cell_type": "code",
   "execution_count": 3,
   "metadata": {},
   "outputs": [
    {
     "name": "stdout",
     "output_type": "stream",
     "text": [
      "La probabilidad de obtener 7 es 0.17\n",
      "La probabilidad de obtener un número par es 0.50\n",
      "La probabilidad de obtener un múltiplo de 3 es 0.33\n"
     ]
    }
   ],
   "source": [
    "import itertools\n",
    "\n",
    "# Generate all possible combinations of the two dice\n",
    "dice_combinations = list(itertools.product(range(1, 7), repeat=2))\n",
    "\n",
    "# Calculate probability of rolling a 7\n",
    "num_7 = sum(1 for x in dice_combinations if sum(x) == 7)\n",
    "prob_7 = num_7 / len(dice_combinations)\n",
    "\n",
    "# Calculate probability of rolling an even number\n",
    "num_even = sum(1 for x in dice_combinations if sum(x) % 2 == 0)\n",
    "prob_even = num_even / len(dice_combinations)\n",
    "\n",
    "# Calculate probability of rolling a multiple of 3\n",
    "num_multiple_3 = sum(1 for x in dice_combinations if sum(x) % 3 == 0)\n",
    "prob_multiple_3 = num_multiple_3 / len(dice_combinations)\n",
    "\n",
    "print(f\"La probabilidad de obtener 7 es {prob_7:.2f}\")\n",
    "print(f\"La probabilidad de obtener un número par es {prob_even:.2f}\")\n",
    "print(f\"La probabilidad de obtener un múltiplo de 3 es {prob_multiple_3:.2f}\")\n"
   ]
  },
  {
   "cell_type": "code",
   "execution_count": 4,
   "metadata": {},
   "outputs": [
    {
     "name": "stdout",
     "output_type": "stream",
     "text": [
      "La probabilidad de obtener dos caras en tres lanzamientos de moneda es 0.38\n"
     ]
    }
   ],
   "source": [
    "import scipy.stats as stats\n",
    "\n",
    "# Probability of getting heads on a single coin toss\n",
    "p = 0.5\n",
    "\n",
    "# Number of coin tosses\n",
    "n = 3\n",
    "\n",
    "# Calculate probability of getting two heads in three coin tosses\n",
    "prob_2_heads = stats.binom.pmf(2, n, p)\n",
    "\n",
    "print(f\"La probabilidad de obtener dos caras en tres lanzamientos de moneda es {prob_2_heads:.2f}\")\n"
   ]
  },
  {
   "cell_type": "code",
   "execution_count": 5,
   "metadata": {},
   "outputs": [
    {
     "name": "stdout",
     "output_type": "stream",
     "text": [
      "La probabilidad de obtener dos caras y una cruz es de: 0.3750\n"
     ]
    }
   ],
   "source": [
    "import itertools\n",
    "\n",
    "outcomes = list(itertools.product(['Cara', 'Cruz'], repeat=3))\n",
    "total_outcomes = len(outcomes)\n",
    "\n",
    "favorable_outcomes = 0\n",
    "for outcome in outcomes:\n",
    "    if outcome.count('Cara') == 2 and outcome.count('Cruz') == 1:\n",
    "        favorable_outcomes += 1\n",
    "\n",
    "probability = favorable_outcomes / total_outcomes\n",
    "\n",
    "print(f\"La probabilidad de obtener dos caras y una cruz es de: {probability:.4f}\")\n"
   ]
  },
  {
   "cell_type": "code",
   "execution_count": 6,
   "metadata": {},
   "outputs": [
    {
     "name": "stdout",
     "output_type": "stream",
     "text": [
      "La probabilidad de que la bola sea blanca y de la primera bolsa es: 0.00\n",
      "La probabilidad de que la bola sea blanca es: 0.09\n",
      "La probabilidad de que la bola sea negra y de la segunda bolsa es: 0.00\n"
     ]
    }
   ],
   "source": [
    "import random\n",
    "\n",
    "# Define the contents of each bag\n",
    "bag1 = ['black', 'black', 'white', 'white', 'white']\n",
    "bag2 = ['black', 'black', 'black', 'black', 'white', 'white']\n",
    "\n",
    "# Randomly choose a bag\n",
    "bag = random.choice([bag1, bag2])\n",
    "\n",
    "# Randomly choose a ball from the selected bag\n",
    "ball = random.choice(bag)\n",
    "\n",
    "# Calculate the probabilities\n",
    "prob_a = (bag == bag1 and ball == 'white') / (len(bag1) + len(bag2))\n",
    "prob_b = (ball == 'white') / (len(bag1) + len(bag2))\n",
    "prob_c = (bag == bag2 and ball == 'black') / bag2.count('black')\n",
    "\n",
    "# Print the probabilities\n",
    "print(f\"La probabilidad de que la bola sea blanca y de la primera bolsa es: {prob_a:.2f}\")\n",
    "print(f\"La probabilidad de que la bola sea blanca es: {prob_b:.2f}\")\n",
    "print(f\"La probabilidad de que la bola sea negra y de la segunda bolsa es: {prob_c:.2f}\")\n"
   ]
  },
  {
   "cell_type": "code",
   "execution_count": null,
   "metadata": {},
   "outputs": [],
   "source": []
  }
 ],
 "metadata": {
  "kernelspec": {
   "display_name": "Python 3",
   "language": "python",
   "name": "python3"
  },
  "language_info": {
   "codemirror_mode": {
    "name": "ipython",
    "version": 3
   },
   "file_extension": ".py",
   "mimetype": "text/x-python",
   "name": "python",
   "nbconvert_exporter": "python",
   "pygments_lexer": "ipython3",
   "version": "3.10.6"
  },
  "orig_nbformat": 4
 },
 "nbformat": 4,
 "nbformat_minor": 2
}
