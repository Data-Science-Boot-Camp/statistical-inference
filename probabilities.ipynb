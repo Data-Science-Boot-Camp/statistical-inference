{
 "cells": [
  {
   "attachments": {},
   "cell_type": "markdown",
   "metadata": {},
   "source": [
    "## Probability concepts and random events."
   ]
  },
  {
   "cell_type": "code",
   "execution_count": 14,
   "metadata": {},
   "outputs": [],
   "source": [
    "import random\n",
    "\n",
    "import pandas as pd"
   ]
  },
  {
   "attachments": {},
   "cell_type": "markdown",
   "metadata": {},
   "source": [
    "#### Probabilities"
   ]
  },
  {
   "cell_type": "code",
   "execution_count": null,
   "metadata": {},
   "outputs": [],
   "source": [
    "# Define a function to simulate rolling a dice\n",
    "def roll_dice():\n",
    "    return random.randint(1, 6)"
   ]
  },
  {
   "cell_type": "code",
   "execution_count": 8,
   "metadata": {},
   "outputs": [
    {
     "name": "stdout",
     "output_type": "stream",
     "text": [
      "The probability of getting 1 is approximately 0.16\n"
     ]
    }
   ],
   "source": [
    "# Define the number we want to get\n",
    "number_to_get = 1\n",
    "\n",
    "# Roll the dice and count the number of times we get\n",
    "# the desired number\n",
    "num_trials = 10_000\n",
    "num_successes = 0\n",
    "\n",
    "for i in range(num_trials):\n",
    "\n",
    "    if roll_dice() == number_to_get:\n",
    "\n",
    "        num_successes += 1\n",
    "\n",
    "# Calculate the probability\n",
    "probability = num_successes / num_trials\n",
    "\n",
    "# Print the results\n",
    "print(\n",
    "    f\"The probability of getting {number_to_get} is \"\n",
    "    f\"approximately {probability:.2f}\"\n",
    ")"
   ]
  },
  {
   "cell_type": "code",
   "execution_count": 11,
   "metadata": {},
   "outputs": [
    {
     "name": "stdout",
     "output_type": "stream",
     "text": [
      "The probability of obtaining an odd number is approximately 0.50\n"
     ]
    }
   ],
   "source": [
    "num_trials = 10000\n",
    "num_odds = 0\n",
    "\n",
    "for i in range(num_trials):\n",
    "\n",
    "    roll = random.randint(1, 6)\n",
    "\n",
    "    if roll % 2 == 1:\n",
    "\n",
    "        num_odds += 1\n",
    "\n",
    "probability = num_odds / num_trials\n",
    "\n",
    "print(\n",
    "    f\"The probability of obtaining an odd number is\"\n",
    "    f\" approximately {probability:.2f}\"\n",
    ")"
   ]
  },
  {
   "cell_type": "code",
   "execution_count": 12,
   "metadata": {},
   "outputs": [
    {
     "name": "stdout",
     "output_type": "stream",
     "text": [
      "The probability of getting heads is 0.50\n"
     ]
    }
   ],
   "source": [
    "# Define the possible outcomes\n",
    "outcomes = ['heads', 'tails']\n",
    "\n",
    "num_trials = 1000\n",
    "num_heads = 0\n",
    "\n",
    "# Simulate flipping a coin num_trials times\n",
    "for i in range(num_trials):\n",
    "\n",
    "    result = random.choice(outcomes)\n",
    "\n",
    "    if result == 'heads':\n",
    "    \n",
    "        num_heads += 1\n",
    "\n",
    "prob_heads = num_heads / num_trials\n",
    "\n",
    "# Print the results\n",
    "print(f\"The probability of getting heads is {prob_heads:.2f}\")\n"
   ]
  },
  {
   "cell_type": "code",
   "execution_count": 13,
   "metadata": {},
   "outputs": [
    {
     "name": "stdout",
     "output_type": "stream",
     "text": [
      "The probability of getting at least one head in two tosses is: 0.7507\n"
     ]
    }
   ],
   "source": [
    "n_simulations = 10_000\n",
    "count = 0 \n",
    "\n",
    "for i in range(n_simulations):\n",
    "\n",
    "    toss1 = random.choice([\"heads\", \"tails\"])\n",
    "    toss2 = random.choice([\"heads\", \"tails\"])\n",
    "    \n",
    "    if toss1 == \"heads\" or toss2 == \"heads\":\n",
    "    \n",
    "        count += 1\n",
    "\n",
    "probability = count / n_simulations\n",
    "\n",
    "print(\n",
    "    f\"The probability of getting at least one head\"\n",
    "    f\" in two tosses is: {probability:.4f}\"\n",
    ")"
   ]
  },
  {
   "attachments": {},
   "cell_type": "markdown",
   "metadata": {},
   "source": [
    "### Union and Intersection\n",
    "* Marginal probability\n",
    "* Join probability\n",
    "* Conditional probability"
   ]
  },
  {
   "cell_type": "code",
   "execution_count": 24,
   "metadata": {},
   "outputs": [
    {
     "data": {
      "text/html": [
       "<div>\n",
       "<style scoped>\n",
       "    .dataframe tbody tr th:only-of-type {\n",
       "        vertical-align: middle;\n",
       "    }\n",
       "\n",
       "    .dataframe tbody tr th {\n",
       "        vertical-align: top;\n",
       "    }\n",
       "\n",
       "    .dataframe thead th {\n",
       "        text-align: right;\n",
       "    }\n",
       "</style>\n",
       "<table border=\"1\" class=\"dataframe\">\n",
       "  <thead>\n",
       "    <tr style=\"text-align: right;\">\n",
       "      <th></th>\n",
       "      <th>rain</th>\n",
       "      <th>noRain</th>\n",
       "    </tr>\n",
       "  </thead>\n",
       "  <tbody>\n",
       "    <tr>\n",
       "      <th>cloud</th>\n",
       "      <td>4</td>\n",
       "      <td>2</td>\n",
       "    </tr>\n",
       "    <tr>\n",
       "      <th>Nocloud</th>\n",
       "      <td>3</td>\n",
       "      <td>9</td>\n",
       "    </tr>\n",
       "  </tbody>\n",
       "</table>\n",
       "</div>"
      ],
      "text/plain": [
       "         rain  noRain\n",
       "cloud       4       2\n",
       "Nocloud     3       9"
      ]
     },
     "execution_count": 24,
     "metadata": {},
     "output_type": "execute_result"
    }
   ],
   "source": [
    "data = {\n",
    "    'rain': [4, 3],\n",
    "    'noRain': [2, 9],\n",
    "}\n",
    "\n",
    "index = ['cloud', 'nocloud']\n",
    "\n",
    "climate_df = pd.DataFrame(data, index=index)\n",
    "climate_df\n"
   ]
  },
  {
   "cell_type": "code",
   "execution_count": 22,
   "metadata": {},
   "outputs": [
    {
     "name": "stdout",
     "output_type": "stream",
     "text": [
      "Marginal probability:\n",
      "             total\n",
      "cloudYes  0.333333\n",
      "cloudNo   0.666667\n",
      "\n",
      "Join probability of cloudYes and rainYes: 0.222\n",
      "Join probability of cloudNo and rainNo: 0.500\n"
     ]
    }
   ],
   "source": [
    "# Marginal probability of\n",
    "\n",
    "\n",
    "\n",
    "print(f\"Marginal probability:\\n{marginal_prob}\\n\")"
   ]
  },
  {
   "cell_type": "code",
   "execution_count": 23,
   "metadata": {},
   "outputs": [
    {
     "name": "stdout",
     "output_type": "stream",
     "text": [
      "Join probability of cloudYes and rainYes: 0.222\n",
      "Join probability of cloudNo and rainNo: 0.500\n"
     ]
    }
   ],
   "source": [
    "# Join probability:\n",
    "# cloudYes and rainYes, cloudNo and rainNo\n",
    "\n",
    "join_prob_1 = climate_df.loc['cloudYes', 'rainYes'] / climate_df.loc['total', 'total']\n",
    "print(f\"Join probability of cloudYes and rainYes: {join_prob_1:.3f}\")\n",
    "\n",
    "join_prob_2 = climate_df.loc['cloudNo', 'rainNo'] / climate_df.loc['total', 'total']\n",
    "\n",
    "print(f\"Join probability of cloudNo and rainNo: {join_prob_2:.3f}\")\n"
   ]
  },
  {
   "cell_type": "code",
   "execution_count": 6,
   "metadata": {},
   "outputs": [
    {
     "name": "stdout",
     "output_type": "stream",
     "text": [
      "La probabilidad de que la bola sea blanca y de la primera bolsa es: 0.00\n",
      "La probabilidad de que la bola sea blanca es: 0.09\n",
      "La probabilidad de que la bola sea negra y de la segunda bolsa es: 0.00\n"
     ]
    }
   ],
   "source": [
    "import random\n",
    "\n",
    "# Define the contents of each bag\n",
    "bag1 = ['black', 'black', 'white', 'white', 'white']\n",
    "bag2 = ['black', 'black', 'black', 'black', 'white', 'white']\n",
    "\n",
    "# Randomly choose a bag\n",
    "bag = random.choice([bag1, bag2])\n",
    "\n",
    "# Randomly choose a ball from the selected bag\n",
    "ball = random.choice(bag)\n",
    "\n",
    "# Calculate the probabilities\n",
    "prob_a = (bag == bag1 and ball == 'white') / (len(bag1) + len(bag2))\n",
    "prob_b = (ball == 'white') / (len(bag1) + len(bag2))\n",
    "prob_c = (bag == bag2 and ball == 'black') / bag2.count('black')\n",
    "\n",
    "# Print the probabilities\n",
    "print(f\"La probabilidad de que la bola sea blanca y de la primera bolsa es: {prob_a:.2f}\")\n",
    "print(f\"La probabilidad de que la bola sea blanca es: {prob_b:.2f}\")\n",
    "print(f\"La probabilidad de que la bola sea negra y de la segunda bolsa es: {prob_c:.2f}\")\n"
   ]
  },
  {
   "cell_type": "code",
   "execution_count": null,
   "metadata": {},
   "outputs": [],
   "source": []
  }
 ],
 "metadata": {
  "kernelspec": {
   "display_name": "Python 3",
   "language": "python",
   "name": "python3"
  },
  "language_info": {
   "codemirror_mode": {
    "name": "ipython",
    "version": 3
   },
   "file_extension": ".py",
   "mimetype": "text/x-python",
   "name": "python",
   "nbconvert_exporter": "python",
   "pygments_lexer": "ipython3",
   "version": "3.10.6"
  },
  "orig_nbformat": 4
 },
 "nbformat": 4,
 "nbformat_minor": 2
}
